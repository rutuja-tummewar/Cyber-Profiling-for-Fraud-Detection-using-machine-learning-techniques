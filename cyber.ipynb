{
 "cells": [
  {
   "cell_type": "code",
   "execution_count": null,
   "id": "f93ed78e",
   "metadata": {
    "papermill": {
     "duration": 2.463078,
     "end_time": "2023-09-17T15:12:48.531153",
     "exception": false,
     "start_time": "2023-09-17T15:12:46.068075",
     "status": "completed"
    },
    "tags": []
   },
   "outputs": [],
   "source": [
    "import pandas as pd"
   ]
  },
  {
   "cell_type": "markdown",
   "id": "b94d1d65",
   "metadata": {
    "papermill": {
     "duration": 0.010295,
     "end_time": "2023-09-17T15:12:48.573252",
     "exception": false,
     "start_time": "2023-09-17T15:12:48.562957",
     "status": "completed"
    },
    "tags": []
   },
   "source": [
    "# Data Loading"
   ]
  },
  {
   "cell_type": "markdown",
   "id": "9e2fce51-6b16-4c2d-9c00-9073f0837a8d",
   "metadata": {
    "papermill": {
     "duration": 0.01028,
     "end_time": "2023-09-17T15:12:48.594188",
     "exception": false,
     "start_time": "2023-09-17T15:12:48.583908",
     "status": "completed"
    },
    "tags": []
   },
   "source": [
    "### We are merging multiple datasets "
   ]
  },
  {
   "cell_type": "code",
   "execution_count": null,
   "id": "7e820baf",
   "metadata": {
    "papermill": {
     "duration": 0.11084,
     "end_time": "2023-09-17T15:12:48.715667",
     "exception": false,
     "start_time": "2023-09-17T15:12:48.604827",
     "status": "completed"
    },
    "tags": []
   },
   "outputs": [],
   "source": [
    "account = pd.read_csv(\"Users/a1234/Documents/fraud-detection-dataset/Data/Customer Profiles/account_activity.csv\")\n",
    "customer = pd.read_csv(\"Users/a1234/Documents/fraud-detection-dataset/Data/Customer Profiles/customer_data.csv\")\n",
    "fraud = pd.read_csv(\"Users/a1234/Documents/fraud-detection-dataset/Data/Fraudulent Patterns/fraud_indicators.csv\")\n",
    "suspision = pd.read_csv(\"Users/a1234/Documents/fraud-detection-dataset/Data/Fraudulent Patterns/suspicious_activity.csv\")\n",
    "merchant = pd.read_csv(\"Users/a1234/Documents/fraud-detection-dataset/Data/Merchant Information/merchant_data.csv\")\n",
    "tran_cat = pd.read_csv(\"Users/a1234/Documents/fraud-detection-dataset/Data/Merchant Information/transaction_category_labels.csv\")\n",
    "amount = pd.read_csv(\"Users/a1234/Documents/fraud-detection-dataset/Data/Transaction Amounts/amount_data.csv\")\n",
    "anamoly = pd.read_csv(\"Users/a1234/Documents/fraud-detection-dataset/Data/Transaction Amounts/anomaly_scores.csv\")\n",
    "tran_data = pd.read_csv(\"Users/a1234/Documents/fraud-detection-dataset/Data/Transaction Data/transaction_metadata.csv\")\n",
    "tran_rec = pd.read_csv(\"Users/a1234/Documents/fraud-detection-dataset/Data/Transaction Data/transaction_records.csv\")"
   ]
  },
  {
   "cell_type": "code",
   "execution_count": null,
   "id": "500930d3",
   "metadata": {
    "papermill": {
     "duration": 0.019063,
     "end_time": "2023-09-17T15:12:48.746159",
     "exception": false,
     "start_time": "2023-09-17T15:12:48.727096",
     "status": "completed"
    },
    "tags": []
   },
   "outputs": [],
   "source": [
    "data = [account,customer,fraud,suspision,merchant,tran_cat,amount,anamoly,tran_data,tran_rec]"
   ]
  },
  {
   "cell_type": "code",
   "execution_count": null,
   "id": "9ba38370",
   "metadata": {
    "papermill": {
     "duration": 0.041105,
     "end_time": "2023-09-17T15:12:48.797964",
     "exception": false,
     "start_time": "2023-09-17T15:12:48.756859",
     "status": "completed"
    },
    "tags": []
   },
   "outputs": [],
   "source": [
    "for df in data:\n",
    "    print(df.head())"
   ]
  },
  {
   "cell_type": "code",
   "execution_count": null,
   "id": "5613cee9",
   "metadata": {
    "papermill": {
     "duration": 0.058706,
     "end_time": "2023-09-17T15:12:48.867521",
     "exception": false,
     "start_time": "2023-09-17T15:12:48.808815",
     "status": "completed"
    },
    "tags": []
   },
   "outputs": [],
   "source": [
    "costumer_data = pd.merge(customer, account, on='CustomerID')\n",
    "costumer_data = pd.merge(costumer_data, suspision, on='CustomerID')\n",
    "costumer_data"
   ]
  },
  {
   "cell_type": "code",
   "execution_count": null,
   "id": "77709797",
   "metadata": {
    "papermill": {
     "duration": 0.031339,
     "end_time": "2023-09-17T15:12:48.910147",
     "exception": false,
     "start_time": "2023-09-17T15:12:48.878808",
     "status": "completed"
    },
    "tags": []
   },
   "outputs": [],
   "source": [
    "transaction_data1 = pd.merge(fraud, tran_cat, on=\"TransactionID\")\n",
    "transaction_data2 = pd.merge(amount, anamoly, on=\"TransactionID\")\n",
    "transaction_data3 = pd.merge(tran_data, tran_rec, on=\"TransactionID\")\n",
    "transaction_data = pd.merge(transaction_data1, transaction_data2,on=\"TransactionID\")\n",
    "transaction_data = pd.merge(transaction_data, transaction_data3,on=\"TransactionID\")"
   ]
  },
  {
   "cell_type": "code",
   "execution_count": null,
   "id": "ec7a4773",
   "metadata": {
    "papermill": {
     "duration": 0.032081,
     "end_time": "2023-09-17T15:12:48.953758",
     "exception": false,
     "start_time": "2023-09-17T15:12:48.921677",
     "status": "completed"
    },
    "tags": []
   },
   "outputs": [],
   "source": [
    "transaction_data\n"
   ]
  },
  {
   "cell_type": "code",
   "execution_count": null,
   "id": "7cc48c60",
   "metadata": {
    "papermill": {
     "duration": 0.042128,
     "end_time": "2023-09-17T15:12:49.007514",
     "exception": false,
     "start_time": "2023-09-17T15:12:48.965386",
     "status": "completed"
    },
    "tags": []
   },
   "outputs": [],
   "source": [
    "data = pd.merge(transaction_data, costumer_data,on=\"CustomerID\")\n",
    "data"
   ]
  },
  {
   "cell_type": "code",
   "execution_count": null,
   "id": "fe73632a",
   "metadata": {
    "papermill": {
     "duration": 0.020994,
     "end_time": "2023-09-17T15:14:13.655054",
     "exception": false,
     "start_time": "2023-09-17T15:14:13.634060",
     "status": "completed"
    },
    "tags": []
   },
   "outputs": [],
   "source": []
  },
  {
   "cell_type": "code",
   "execution_count": null,
   "id": "c3c4a391",
   "metadata": {},
   "outputs": [],
   "source": []
  }
 ],
 "metadata": {
  "kernelspec": {
   "display_name": "Python [conda env:base] *",
   "language": "python",
   "name": "conda-base-py"
  },
  "language_info": {
   "codemirror_mode": {
    "name": "ipython",
    "version": 3
   },
   "file_extension": ".py",
   "mimetype": "text/x-python",
   "name": "python",
   "nbconvert_exporter": "python",
   "pygments_lexer": "ipython3",
   "version": "3.12.7"
  },
  "papermill": {
   "default_parameters": {},
   "duration": 93.724832,
   "end_time": "2023-09-17T15:14:16.298802",
   "environment_variables": {},
   "exception": null,
   "input_path": "__notebook__.ipynb",
   "output_path": "__notebook__.ipynb",
   "parameters": {},
   "start_time": "2023-09-17T15:12:42.573970",
   "version": "2.4.0"
  }
 },
 "nbformat": 4,
 "nbformat_minor": 5
}
